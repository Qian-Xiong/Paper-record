{
 "cells": [
  {
   "cell_type": "code",
   "execution_count": 2,
   "id": "initial_id",
   "metadata": {
    "collapsed": true,
    "ExecuteTime": {
     "end_time": "2024-05-14T01:47:56.176210Z",
     "start_time": "2024-05-14T01:47:31.040492Z"
    }
   },
   "outputs": [
    {
     "data": {
      "text/plain": "Downloading data:   0%|          | 0.00/3.11M [00:00<?, ?B/s]",
      "application/vnd.jupyter.widget-view+json": {
       "version_major": 2,
       "version_minor": 0,
       "model_id": "1370ac2ad5f54847aad778e7dfedd249"
      }
     },
     "metadata": {},
     "output_type": "display_data"
    },
    {
     "data": {
      "text/plain": "Downloading data:   0%|          | 0.00/72.8k [00:00<?, ?B/s]",
      "application/vnd.jupyter.widget-view+json": {
       "version_major": 2,
       "version_minor": 0,
       "model_id": "58d8fd985c594ad49521993416ac8bec"
      }
     },
     "metadata": {},
     "output_type": "display_data"
    },
    {
     "data": {
      "text/plain": "Downloading data:   0%|          | 0.00/148k [00:00<?, ?B/s]",
      "application/vnd.jupyter.widget-view+json": {
       "version_major": 2,
       "version_minor": 0,
       "model_id": "e70b8b82bed347978e32ffed9f57da71"
      }
     },
     "metadata": {},
     "output_type": "display_data"
    },
    {
     "data": {
      "text/plain": "Generating train split:   0%|          | 0/67349 [00:00<?, ? examples/s]",
      "application/vnd.jupyter.widget-view+json": {
       "version_major": 2,
       "version_minor": 0,
       "model_id": "665cf6ac3c2b4f18907fa251083e1133"
      }
     },
     "metadata": {},
     "output_type": "display_data"
    },
    {
     "data": {
      "text/plain": "Generating validation split:   0%|          | 0/872 [00:00<?, ? examples/s]",
      "application/vnd.jupyter.widget-view+json": {
       "version_major": 2,
       "version_minor": 0,
       "model_id": "24b44e3ab2f54074bcc24b574a43e5b2"
      }
     },
     "metadata": {},
     "output_type": "display_data"
    },
    {
     "data": {
      "text/plain": "Generating test split:   0%|          | 0/1821 [00:00<?, ? examples/s]",
      "application/vnd.jupyter.widget-view+json": {
       "version_major": 2,
       "version_minor": 0,
       "model_id": "9c2f521c3d5b48ebb3189ae00824c5a2"
      }
     },
     "metadata": {},
     "output_type": "display_data"
    },
    {
     "data": {
      "text/plain": "DatasetDict({\n    train: Dataset({\n        features: ['sentence', 'label', 'idx'],\n        num_rows: 67349\n    })\n    validation: Dataset({\n        features: ['sentence', 'label', 'idx'],\n        num_rows: 872\n    })\n    test: Dataset({\n        features: ['sentence', 'label', 'idx'],\n        num_rows: 1821\n    })\n})"
     },
     "execution_count": 2,
     "metadata": {},
     "output_type": "execute_result"
    }
   ],
   "source": [
    "import warnings\n",
    "\n",
    "warnings.filterwarnings(\"ignore\")\n",
    "\n",
    "from datasets import load_dataset\n",
    "\n",
    "data = load_dataset(\"glue\", \"sst2\")\n",
    "data"
   ]
  },
  {
   "cell_type": "code",
   "outputs": [],
   "source": [
    "from transformers import AutoTokenizer, AutoModelForSequenceClassification\n",
    "checkpoint=\"bert-base-uncased\"\n",
    "tokenizer = AutoTokenizer.from_pretrained(checkpoint)"
   ],
   "metadata": {
    "collapsed": false,
    "ExecuteTime": {
     "end_time": "2024-05-14T01:53:23.453717Z",
     "start_time": "2024-05-14T01:53:18.808323Z"
    }
   },
   "id": "f84044b9d0bf7036",
   "execution_count": 8
  },
  {
   "cell_type": "code",
   "outputs": [],
   "source": [
    "def tokenize_func(examples):\n",
    "    return tokenizer(examples[\"sentence\"], truncation=True)"
   ],
   "metadata": {
    "collapsed": false,
    "ExecuteTime": {
     "end_time": "2024-05-14T01:55:10.529390Z",
     "start_time": "2024-05-14T01:55:10.526402Z"
    }
   },
   "id": "af49f1461aefebe3",
   "execution_count": 9
  },
  {
   "cell_type": "code",
   "outputs": [
    {
     "data": {
      "text/plain": "Map:   0%|          | 0/67349 [00:00<?, ? examples/s]",
      "application/vnd.jupyter.widget-view+json": {
       "version_major": 2,
       "version_minor": 0,
       "model_id": "b0f79b03af0e480fb1009dafc9372050"
      }
     },
     "metadata": {},
     "output_type": "display_data"
    },
    {
     "data": {
      "text/plain": "Map:   0%|          | 0/872 [00:00<?, ? examples/s]",
      "application/vnd.jupyter.widget-view+json": {
       "version_major": 2,
       "version_minor": 0,
       "model_id": "3c3f6f5c8dad42739f933e290c52286a"
      }
     },
     "metadata": {},
     "output_type": "display_data"
    },
    {
     "data": {
      "text/plain": "Map:   0%|          | 0/1821 [00:00<?, ? examples/s]",
      "application/vnd.jupyter.widget-view+json": {
       "version_major": 2,
       "version_minor": 0,
       "model_id": "dbfb5bed1ae6431e81a1b3192fbc3c10"
      }
     },
     "metadata": {},
     "output_type": "display_data"
    },
    {
     "data": {
      "text/plain": "DatasetDict({\n    train: Dataset({\n        features: ['sentence', 'label', 'idx', 'input_ids', 'token_type_ids', 'attention_mask'],\n        num_rows: 67349\n    })\n    validation: Dataset({\n        features: ['sentence', 'label', 'idx', 'input_ids', 'token_type_ids', 'attention_mask'],\n        num_rows: 872\n    })\n    test: Dataset({\n        features: ['sentence', 'label', 'idx', 'input_ids', 'token_type_ids', 'attention_mask'],\n        num_rows: 1821\n    })\n})"
     },
     "execution_count": 10,
     "metadata": {},
     "output_type": "execute_result"
    }
   ],
   "source": [
    "tokenized_datasets =data.map(tokenize_func, batched=True)\n",
    "tokenized_datasets"
   ],
   "metadata": {
    "collapsed": false,
    "ExecuteTime": {
     "end_time": "2024-05-14T01:56:00.071058Z",
     "start_time": "2024-05-14T01:55:58.811545Z"
    }
   },
   "id": "b8ad721345a22f9",
   "execution_count": 10
  },
  {
   "cell_type": "code",
   "outputs": [],
   "source": [
    "from transformers import DataCollatorWithPadding\n",
    "data_collator = DataCollatorWithPadding(tokenizer)"
   ],
   "metadata": {
    "collapsed": false,
    "ExecuteTime": {
     "end_time": "2024-05-14T01:57:35.360003Z",
     "start_time": "2024-05-14T01:57:34.537253Z"
    }
   },
   "id": "54612e99f15e6a52",
   "execution_count": 11
  },
  {
   "cell_type": "code",
   "outputs": [
    {
     "name": "stderr",
     "output_type": "stream",
     "text": [
      "Using the latest cached version of the module from C:\\Users\\admin\\.cache\\huggingface\\modules\\datasets_modules\\metrics\\accuracy\\9756d5fa4a0f9da966341741fc3926eafdc604b8276add51d5abbaa8958a25f9 (last modified on Mon May 13 15:29:26 2024) since it couldn't be found locally at accuracy, or remotely on the Hugging Face Hub.\n",
      "Some weights of BertForSequenceClassification were not initialized from the model checkpoint at bert-base-uncased and are newly initialized: ['classifier.bias', 'classifier.weight']\n",
      "You should probably TRAIN this model on a down-stream task to be able to use it for predictions and inference.\n"
     ]
    },
    {
     "data": {
      "text/plain": "<IPython.core.display.HTML object>",
      "text/html": "\n    <div>\n      \n      <progress value='4210' max='4210' style='width:300px; height:20px; vertical-align: middle;'></progress>\n      [4210/4210 09:49, Epoch 1/1]\n    </div>\n    <table border=\"1\" class=\"dataframe\">\n  <thead>\n <tr style=\"text-align: left;\">\n      <th>Step</th>\n      <th>Training Loss</th>\n      <th>Validation Loss</th>\n      <th>Accuracy</th>\n    </tr>\n  </thead>\n  <tbody>\n    <tr>\n      <td>50</td>\n      <td>0.552700</td>\n      <td>0.378965</td>\n      <td>0.839450</td>\n    </tr>\n    <tr>\n      <td>100</td>\n      <td>0.433200</td>\n      <td>0.401424</td>\n      <td>0.836009</td>\n    </tr>\n    <tr>\n      <td>150</td>\n      <td>0.310000</td>\n      <td>0.330325</td>\n      <td>0.885321</td>\n    </tr>\n    <tr>\n      <td>200</td>\n      <td>0.365800</td>\n      <td>0.288142</td>\n      <td>0.883028</td>\n    </tr>\n    <tr>\n      <td>250</td>\n      <td>0.308900</td>\n      <td>0.449862</td>\n      <td>0.861239</td>\n    </tr>\n    <tr>\n      <td>300</td>\n      <td>0.326200</td>\n      <td>0.305040</td>\n      <td>0.878440</td>\n    </tr>\n    <tr>\n      <td>350</td>\n      <td>0.325900</td>\n      <td>0.292856</td>\n      <td>0.875000</td>\n    </tr>\n    <tr>\n      <td>400</td>\n      <td>0.311900</td>\n      <td>0.261431</td>\n      <td>0.894495</td>\n    </tr>\n    <tr>\n      <td>450</td>\n      <td>0.292300</td>\n      <td>0.360653</td>\n      <td>0.858945</td>\n    </tr>\n    <tr>\n      <td>500</td>\n      <td>0.297400</td>\n      <td>0.272124</td>\n      <td>0.904817</td>\n    </tr>\n    <tr>\n      <td>550</td>\n      <td>0.262300</td>\n      <td>0.297378</td>\n      <td>0.891055</td>\n    </tr>\n    <tr>\n      <td>600</td>\n      <td>0.307800</td>\n      <td>0.276249</td>\n      <td>0.887615</td>\n    </tr>\n    <tr>\n      <td>650</td>\n      <td>0.258300</td>\n      <td>0.304160</td>\n      <td>0.901376</td>\n    </tr>\n    <tr>\n      <td>700</td>\n      <td>0.264700</td>\n      <td>0.269910</td>\n      <td>0.901376</td>\n    </tr>\n    <tr>\n      <td>750</td>\n      <td>0.277000</td>\n      <td>0.298753</td>\n      <td>0.889908</td>\n    </tr>\n    <tr>\n      <td>800</td>\n      <td>0.286100</td>\n      <td>0.240921</td>\n      <td>0.911697</td>\n    </tr>\n    <tr>\n      <td>850</td>\n      <td>0.245100</td>\n      <td>0.268412</td>\n      <td>0.916284</td>\n    </tr>\n    <tr>\n      <td>900</td>\n      <td>0.299700</td>\n      <td>0.233281</td>\n      <td>0.912844</td>\n    </tr>\n    <tr>\n      <td>950</td>\n      <td>0.239200</td>\n      <td>0.277944</td>\n      <td>0.902523</td>\n    </tr>\n    <tr>\n      <td>1000</td>\n      <td>0.261800</td>\n      <td>0.266223</td>\n      <td>0.897936</td>\n    </tr>\n    <tr>\n      <td>1050</td>\n      <td>0.248000</td>\n      <td>0.364838</td>\n      <td>0.858945</td>\n    </tr>\n    <tr>\n      <td>1100</td>\n      <td>0.263900</td>\n      <td>0.258944</td>\n      <td>0.900229</td>\n    </tr>\n    <tr>\n      <td>1150</td>\n      <td>0.245400</td>\n      <td>0.310342</td>\n      <td>0.894495</td>\n    </tr>\n    <tr>\n      <td>1200</td>\n      <td>0.220900</td>\n      <td>0.256507</td>\n      <td>0.896789</td>\n    </tr>\n    <tr>\n      <td>1250</td>\n      <td>0.238800</td>\n      <td>0.296640</td>\n      <td>0.899083</td>\n    </tr>\n    <tr>\n      <td>1300</td>\n      <td>0.272900</td>\n      <td>0.299459</td>\n      <td>0.881881</td>\n    </tr>\n    <tr>\n      <td>1350</td>\n      <td>0.201000</td>\n      <td>0.277732</td>\n      <td>0.897936</td>\n    </tr>\n    <tr>\n      <td>1400</td>\n      <td>0.221000</td>\n      <td>0.357992</td>\n      <td>0.888761</td>\n    </tr>\n    <tr>\n      <td>1450</td>\n      <td>0.215600</td>\n      <td>0.264445</td>\n      <td>0.909404</td>\n    </tr>\n    <tr>\n      <td>1500</td>\n      <td>0.251100</td>\n      <td>0.268874</td>\n      <td>0.897936</td>\n    </tr>\n    <tr>\n      <td>1550</td>\n      <td>0.238100</td>\n      <td>0.282243</td>\n      <td>0.902523</td>\n    </tr>\n    <tr>\n      <td>1600</td>\n      <td>0.201400</td>\n      <td>0.316104</td>\n      <td>0.901376</td>\n    </tr>\n    <tr>\n      <td>1650</td>\n      <td>0.220400</td>\n      <td>0.354627</td>\n      <td>0.895642</td>\n    </tr>\n    <tr>\n      <td>1700</td>\n      <td>0.189100</td>\n      <td>0.311301</td>\n      <td>0.891055</td>\n    </tr>\n    <tr>\n      <td>1750</td>\n      <td>0.214400</td>\n      <td>0.262529</td>\n      <td>0.900229</td>\n    </tr>\n    <tr>\n      <td>1800</td>\n      <td>0.199300</td>\n      <td>0.298690</td>\n      <td>0.903670</td>\n    </tr>\n    <tr>\n      <td>1850</td>\n      <td>0.223700</td>\n      <td>0.264325</td>\n      <td>0.900229</td>\n    </tr>\n    <tr>\n      <td>1900</td>\n      <td>0.193600</td>\n      <td>0.300353</td>\n      <td>0.894495</td>\n    </tr>\n    <tr>\n      <td>1950</td>\n      <td>0.207400</td>\n      <td>0.390979</td>\n      <td>0.881881</td>\n    </tr>\n    <tr>\n      <td>2000</td>\n      <td>0.177900</td>\n      <td>0.315578</td>\n      <td>0.899083</td>\n    </tr>\n    <tr>\n      <td>2050</td>\n      <td>0.267800</td>\n      <td>0.250417</td>\n      <td>0.900229</td>\n    </tr>\n    <tr>\n      <td>2100</td>\n      <td>0.224000</td>\n      <td>0.251406</td>\n      <td>0.903670</td>\n    </tr>\n    <tr>\n      <td>2150</td>\n      <td>0.191300</td>\n      <td>0.273721</td>\n      <td>0.905963</td>\n    </tr>\n    <tr>\n      <td>2200</td>\n      <td>0.190600</td>\n      <td>0.262180</td>\n      <td>0.908257</td>\n    </tr>\n    <tr>\n      <td>2250</td>\n      <td>0.191700</td>\n      <td>0.268854</td>\n      <td>0.904817</td>\n    </tr>\n    <tr>\n      <td>2300</td>\n      <td>0.201100</td>\n      <td>0.276002</td>\n      <td>0.901376</td>\n    </tr>\n    <tr>\n      <td>2350</td>\n      <td>0.218300</td>\n      <td>0.262464</td>\n      <td>0.905963</td>\n    </tr>\n    <tr>\n      <td>2400</td>\n      <td>0.149600</td>\n      <td>0.358029</td>\n      <td>0.902523</td>\n    </tr>\n    <tr>\n      <td>2450</td>\n      <td>0.174700</td>\n      <td>0.351619</td>\n      <td>0.902523</td>\n    </tr>\n    <tr>\n      <td>2500</td>\n      <td>0.239700</td>\n      <td>0.277925</td>\n      <td>0.912844</td>\n    </tr>\n    <tr>\n      <td>2550</td>\n      <td>0.203100</td>\n      <td>0.285567</td>\n      <td>0.910550</td>\n    </tr>\n    <tr>\n      <td>2600</td>\n      <td>0.187200</td>\n      <td>0.304373</td>\n      <td>0.904817</td>\n    </tr>\n    <tr>\n      <td>2650</td>\n      <td>0.220300</td>\n      <td>0.293457</td>\n      <td>0.908257</td>\n    </tr>\n    <tr>\n      <td>2700</td>\n      <td>0.212700</td>\n      <td>0.319976</td>\n      <td>0.897936</td>\n    </tr>\n    <tr>\n      <td>2750</td>\n      <td>0.167200</td>\n      <td>0.286751</td>\n      <td>0.903670</td>\n    </tr>\n    <tr>\n      <td>2800</td>\n      <td>0.168400</td>\n      <td>0.302391</td>\n      <td>0.903670</td>\n    </tr>\n    <tr>\n      <td>2850</td>\n      <td>0.227100</td>\n      <td>0.240833</td>\n      <td>0.907110</td>\n    </tr>\n    <tr>\n      <td>2900</td>\n      <td>0.203900</td>\n      <td>0.253038</td>\n      <td>0.910550</td>\n    </tr>\n    <tr>\n      <td>2950</td>\n      <td>0.196600</td>\n      <td>0.276227</td>\n      <td>0.907110</td>\n    </tr>\n    <tr>\n      <td>3000</td>\n      <td>0.188700</td>\n      <td>0.283398</td>\n      <td>0.915138</td>\n    </tr>\n    <tr>\n      <td>3050</td>\n      <td>0.187000</td>\n      <td>0.287928</td>\n      <td>0.913991</td>\n    </tr>\n    <tr>\n      <td>3100</td>\n      <td>0.167300</td>\n      <td>0.299972</td>\n      <td>0.904817</td>\n    </tr>\n    <tr>\n      <td>3150</td>\n      <td>0.211900</td>\n      <td>0.275685</td>\n      <td>0.911697</td>\n    </tr>\n    <tr>\n      <td>3200</td>\n      <td>0.201500</td>\n      <td>0.253857</td>\n      <td>0.907110</td>\n    </tr>\n    <tr>\n      <td>3250</td>\n      <td>0.164900</td>\n      <td>0.268808</td>\n      <td>0.909404</td>\n    </tr>\n    <tr>\n      <td>3300</td>\n      <td>0.156800</td>\n      <td>0.243929</td>\n      <td>0.912844</td>\n    </tr>\n    <tr>\n      <td>3350</td>\n      <td>0.174900</td>\n      <td>0.250803</td>\n      <td>0.910550</td>\n    </tr>\n    <tr>\n      <td>3400</td>\n      <td>0.204100</td>\n      <td>0.248190</td>\n      <td>0.912844</td>\n    </tr>\n    <tr>\n      <td>3450</td>\n      <td>0.196800</td>\n      <td>0.241964</td>\n      <td>0.910550</td>\n    </tr>\n    <tr>\n      <td>3500</td>\n      <td>0.142600</td>\n      <td>0.272943</td>\n      <td>0.911697</td>\n    </tr>\n    <tr>\n      <td>3550</td>\n      <td>0.202400</td>\n      <td>0.257557</td>\n      <td>0.917431</td>\n    </tr>\n    <tr>\n      <td>3600</td>\n      <td>0.165600</td>\n      <td>0.266645</td>\n      <td>0.913991</td>\n    </tr>\n    <tr>\n      <td>3650</td>\n      <td>0.158100</td>\n      <td>0.270547</td>\n      <td>0.913991</td>\n    </tr>\n    <tr>\n      <td>3700</td>\n      <td>0.168500</td>\n      <td>0.278702</td>\n      <td>0.912844</td>\n    </tr>\n    <tr>\n      <td>3750</td>\n      <td>0.183600</td>\n      <td>0.260935</td>\n      <td>0.912844</td>\n    </tr>\n    <tr>\n      <td>3800</td>\n      <td>0.159000</td>\n      <td>0.263361</td>\n      <td>0.911697</td>\n    </tr>\n    <tr>\n      <td>3850</td>\n      <td>0.165200</td>\n      <td>0.269088</td>\n      <td>0.915138</td>\n    </tr>\n    <tr>\n      <td>3900</td>\n      <td>0.144500</td>\n      <td>0.277153</td>\n      <td>0.913991</td>\n    </tr>\n    <tr>\n      <td>3950</td>\n      <td>0.169000</td>\n      <td>0.272471</td>\n      <td>0.918578</td>\n    </tr>\n    <tr>\n      <td>4000</td>\n      <td>0.176300</td>\n      <td>0.264255</td>\n      <td>0.916284</td>\n    </tr>\n    <tr>\n      <td>4050</td>\n      <td>0.179700</td>\n      <td>0.260217</td>\n      <td>0.918578</td>\n    </tr>\n    <tr>\n      <td>4100</td>\n      <td>0.170400</td>\n      <td>0.259999</td>\n      <td>0.919725</td>\n    </tr>\n    <tr>\n      <td>4150</td>\n      <td>0.147000</td>\n      <td>0.262871</td>\n      <td>0.919725</td>\n    </tr>\n    <tr>\n      <td>4200</td>\n      <td>0.132900</td>\n      <td>0.263258</td>\n      <td>0.919725</td>\n    </tr>\n  </tbody>\n</table><p>"
     },
     "metadata": {},
     "output_type": "display_data"
    },
    {
     "data": {
      "text/plain": "TrainOutput(global_step=4210, training_loss=0.22395948551046593, metrics={'train_runtime': 591.8381, 'train_samples_per_second': 113.796, 'train_steps_per_second': 7.113, 'total_flos': 1216670228308500.0, 'train_loss': 0.22395948551046593, 'epoch': 1.0})"
     },
     "execution_count": 13,
     "metadata": {},
     "output_type": "execute_result"
    }
   ],
   "source": [
    "from transformers import Trainer, TrainingArguments\n",
    "import numpy as np\n",
    "from datasets import load_metric\n",
    "\n",
    "metric = load_metric(\"accuracy\")\n",
    "\n",
    "def compute_metrics(eval_preds):\n",
    "    predictions, labels = eval_preds\n",
    "    predictions = np.argmax(predictions, axis=1)\n",
    "    return metric.compute(predictions=predictions, references=labels)\n",
    "training_args = TrainingArguments(\"out_files\",\n",
    "                                  per_device_train_batch_size=16,\n",
    "                                  num_train_epochs=1,\n",
    "                                  logging_steps=50,\n",
    "                                  evaluation_strategy='steps')\n",
    "model = AutoModelForSequenceClassification.from_pretrained(checkpoint, num_labels=2)\n",
    "\n",
    "trainer = Trainer(\n",
    "    model,\n",
    "    training_args,\n",
    "    train_dataset=tokenized_datasets[\"train\"],\n",
    "    eval_dataset=tokenized_datasets[\"validation\"],\n",
    "    data_collator=data_collator,\n",
    "    tokenizer=tokenizer,\n",
    "    compute_metrics=compute_metrics,\n",
    ")\n",
    "trainer.train()"
   ],
   "metadata": {
    "collapsed": false,
    "ExecuteTime": {
     "end_time": "2024-05-14T02:09:07.073439Z",
     "start_time": "2024-05-14T01:59:08.134559Z"
    }
   },
   "id": "8f62d2d2be5a8c3b",
   "execution_count": 13
  }
 ],
 "metadata": {
  "kernelspec": {
   "display_name": "Python 3",
   "language": "python",
   "name": "python3"
  },
  "language_info": {
   "codemirror_mode": {
    "name": "ipython",
    "version": 2
   },
   "file_extension": ".py",
   "mimetype": "text/x-python",
   "name": "python",
   "nbconvert_exporter": "python",
   "pygments_lexer": "ipython2",
   "version": "2.7.6"
  }
 },
 "nbformat": 4,
 "nbformat_minor": 5
}
