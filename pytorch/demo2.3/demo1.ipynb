{
 "cells": [
  {
   "cell_type": "code",
   "execution_count": 1,
   "outputs": [
    {
     "name": "stdout",
     "output_type": "stream",
     "text": [
      "x.requires_grad: True\n",
      "y.requires_grad: True\n",
      "x: tensor([[1., 2.],\n",
      "        [3., 4.]], requires_grad=True)\n",
      "y: tensor(54., grad_fn=<SumBackward0>)\n"
     ]
    }
   ],
   "source": [
    "import torch\n",
    "x=torch.tensor([[1.0,2.0],[3.0,4.0]],requires_grad=True)\n",
    "##默认requires_grad=False\n",
    "y=torch.sum(x**2+2*x+1)\n",
    "print(\"x.requires_grad:\",x.requires_grad)\n",
    "print(\"y.requires_grad:\",y.requires_grad)\n",
    "print(\"x:\",x)\n",
    "print(\"y:\",y)"
   ],
   "metadata": {
    "collapsed": false
   }
  },
  {
   "cell_type": "code",
   "execution_count": 2,
   "outputs": [
    {
     "data": {
      "text/plain": "tensor([[ 4.,  6.],\n        [ 8., 10.]])"
     },
     "execution_count": 2,
     "metadata": {},
     "output_type": "execute_result"
    }
   ],
   "source": [
    "##计算y在x上的梯度\n",
    "y.backward()\n",
    "x.grad"
   ],
   "metadata": {
    "collapsed": false
   }
  }
 ],
 "metadata": {
  "kernelspec": {
   "display_name": "Python 3",
   "language": "python",
   "name": "python3"
  },
  "language_info": {
   "codemirror_mode": {
    "name": "ipython",
    "version": 2
   },
   "file_extension": ".py",
   "mimetype": "text/x-python",
   "name": "python",
   "nbconvert_exporter": "python",
   "pygments_lexer": "ipython2",
   "version": "2.7.6"
  }
 },
 "nbformat": 4,
 "nbformat_minor": 0
}
