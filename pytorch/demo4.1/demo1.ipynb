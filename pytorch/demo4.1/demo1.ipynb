{
 "cells": [
  {
   "cell_type": "code",
   "execution_count": null,
   "metadata": {
    "collapsed": true
   },
   "outputs": [],
   "source": [
    "import torch\n",
    "import torch.nn as nn\n",
    "import torchvision\n",
    "import torchvision.utils as vutils\n",
    "from torch.optim import SGD\n",
    "import torch.utils.data as Data\n",
    "from sklearn.metrics import accuracy_score\n",
    "import matplotlib.pyplot as plt"
   ]
  },
  {
   "cell_type": "code",
   "execution_count": null,
   "outputs": [],
   "source": [
    "##使用手写字体数据，准备训练数据集\n",
    "train_data = torchvision.datasets.MNIST(\n",
    "    root=\"D:\\Rookie\\pytorch\\data\\MNIST\",  ##数据的路径\n",
    "    train=True,  ##只使用训练的数据集\n",
    "    ##将数据转化为torch使用的张量，取值范围为[0,1]\n",
    "    transform=torchvision.transforms.ToTensor(),\n",
    "    download=True\n",
    ")\n",
    "##定义一个数据加载器\n",
    "train_loader = Data.DataLoader(\n",
    "    dataset=train_data,  ##使用的数据集\n",
    "    batch_size=128,  ##批处理样本大小\n",
    "    shuffle=True,  ##每次迭代前打乱数据\n",
    "    num_workers=2,  ##使用两个进程\n",
    ")\n",
    "##准备需要使用的测试数据集\n",
    "test_data = torchvision.datasets.MNIST(\n",
    "    root=\"D:\\Rookie\\pytorch\\data\\MNIST\",  ##数据的路径\n",
    "    train=False,\n",
    "    download=False\n",
    ")\n",
    "##为数据添加一个通道维度，并且取值范围缩放的0~1之间\n",
    "test_data_x = test_data.data.type(torch.FloatTensor) / 255.0\n",
    "test_data_x = torch.unsqueeze(test_data_x, dim=1)\n",
    "test_data_y = test_data.targets  ##测试集标签\n",
    "print(\"test_data_x.shape:\", test_data_x.shape)\n",
    "print(\"test_data_y.shape:\", test_data_y.shape)"
   ],
   "metadata": {
    "collapsed": false
   }
  },
  {
   "cell_type": "code",
   "execution_count": null,
   "outputs": [],
   "source": [
    "##搭建一个卷积神经网络\n",
    "class ConvNet(nn.Module):\n",
    "    def __init__(self):\n",
    "        super(ConvNet, self).__init__()\n",
    "        ##定义第一个卷积层\n",
    "        self.conv1 = nn.Sequential(\n",
    "            nn.Conv2d(\n",
    "                in_channels=1,  ##输入的feature map\n",
    "                out_channels=16,  ##输出的feature map\n",
    "                kernel_size=3,  ##卷积核尺寸\n",
    "                stride=1,  ##卷积核步长\n",
    "                padding=1,  ##进行填充\n",
    "            ),\n",
    "            nn.ReLU(),  ##激活函数\n",
    "            nn.AvgPool2d(\n",
    "                kernel_size=2,  ##平均池化层尺寸\n",
    "                stride=2,  ##池化步长\n",
    "            ),\n",
    "        )\n",
    "        ##定义第二个卷积层\n",
    "        self.conv2 = nn.Sequential(\n",
    "            nn.Conv2d(16, 32, 3, 1, 1),\n",
    "            nn.ReLU(),\n",
    "            nn.MaxPool2d(2, 2)  ##最大池化\n",
    "        )\n",
    "        ##定义全连接层\n",
    "        self.fc = nn.Sequential(\n",
    "            nn.Linear(\n",
    "                in_features=32 * 7 * 7,  ##输入特征\n",
    "                out_features=128,  ##输入特征数\n",
    "            ),\n",
    "            nn.ReLU(),  #激活函数\n",
    "            nn.Linear(128, 64),\n",
    "            nn.ReLU()\n",
    "        )\n",
    "        self.out = nn.Linear(64, 10)  ##进行最后的分类层\n",
    "\n",
    "    ##定义网络的前向传播路径\n",
    "    def forward(self, x):\n",
    "        x = self.conv1(x)\n",
    "        x = self.conv2(x)\n",
    "        x = x.view(x.size(0), -1)  ##展开多维的卷积图层\n",
    "        x = self.fc(x)\n",
    "        output = self.out(x)\n",
    "        return output"
   ],
   "metadata": {
    "collapsed": false
   }
  },
  {
   "cell_type": "code",
   "execution_count": null,
   "outputs": [],
   "source": [
    "##输出网络结构\n",
    "MyConvnet = ConvNet()\n",
    "print(MyConvnet)"
   ],
   "metadata": {
    "collapsed": false
   }
  },
  {
   "cell_type": "code",
   "execution_count": null,
   "outputs": [],
   "source": [
    "import hiddenlayer as h1\n",
    "\n",
    "##可视化卷积神经网络\n",
    "h1_graph = h1.build_graph(MyConvnet, torch.zeros([1, 1, 28, 28]))\n",
    "help(h1.graph)\n",
    "# h1_graph.theme = h1_graph.theme.copy()\n",
    "##将可视化的网络保存为图片\n",
    "h1_graph.save(\"D:\\Rookie\\pytorch\\data\\MyConvent_h1.png\", format=\"png\")"
   ],
   "metadata": {
    "collapsed": false
   }
  },
  {
   "cell_type": "code",
   "execution_count": null,
   "outputs": [],
   "source": [
    "from torchviz import make_dot\n",
    "##使用make_dot可视化网络\n",
    "x=torch.randn(1,1,28,28).requires_grad_(True)\n",
    "y=MyConvnet(x)\n",
    "MyConvnetvis=make_dot(y,params=dict(list(MyConvnet.named_parameters())+[(\"x\",x)]))\n",
    "##将MyConvnetvis保存为图片\n",
    "MyConvnetvis.format=\"png\"##形式转化为png\n",
    "##指定文件保存位置\n",
    "MyConvnetvis.directory=\"../data/Myconvnet_vis\"\n",
    "MyConvnetvis.view()##会自动在当前文件夹生成文件"
   ],
   "metadata": {
    "collapsed": false
   }
  },
  {
   "cell_type": "code",
   "execution_count": null,
   "outputs": [],
   "source": [],
   "metadata": {
    "collapsed": false
   }
  }
 ],
 "metadata": {
  "kernelspec": {
   "display_name": "Python 3",
   "language": "python",
   "name": "python3"
  },
  "language_info": {
   "codemirror_mode": {
    "name": "ipython",
    "version": 2
   },
   "file_extension": ".py",
   "mimetype": "text/x-python",
   "name": "python",
   "nbconvert_exporter": "python",
   "pygments_lexer": "ipython2",
   "version": "2.7.6"
  }
 },
 "nbformat": 4,
 "nbformat_minor": 0
}
