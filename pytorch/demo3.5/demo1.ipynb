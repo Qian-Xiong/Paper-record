{
 "cells": [
  {
   "cell_type": "code",
   "execution_count": 2,
   "metadata": {
    "collapsed": true
   },
   "outputs": [
    {
     "name": "stderr",
     "output_type": "stream",
     "text": [
      "C:\\Users\\User\\AppData\\Local\\Temp\\ipykernel_17788\\937215353.py:6: UserWarning: nn.init.normal is now deprecated in favor of nn.init.normal_.\n",
      "  torch.nn.init.normal(conv1.weight,mean=0,std=1)\n"
     ]
    },
    {
     "data": {
      "text/plain": "<Figure size 800x600 with 1 Axes>",
      "image/png": "[encoded data removed]"
     },
     "metadata": {},
     "output_type": "display_data"
    }
   ],
   "source": [
    "import torch\n",
    "##针对一个权重的初始化方法\n",
    "conv1=torch.nn.Conv2d(3,16,3)\n",
    "##使用标准正态分布初始化权重\n",
    "torch.manual_seed(12) ##随机初始化种子\n",
    "torch.nn.init.normal(conv1.weight,mean=0,std=1)\n",
    "##使用直方图可视化conv1.weight的分布情况\n",
    "import matplotlib.pyplot as plt\n",
    "plt.figure(figsize=(8,6))\n",
    "plt.hist(conv1.weight.data.numpy().reshape((-1,1)),bins=30)\n",
    "plt.show()"
   ]
  },
  {
   "cell_type": "code",
   "execution_count": 3,
   "outputs": [
    {
     "name": "stderr",
     "output_type": "stream",
     "text": [
      "C:\\Users\\User\\AppData\\Local\\Temp\\ipykernel_17788\\199269100.py:2: UserWarning: nn.init.constant is now deprecated in favor of nn.init.constant_.\n",
      "  torch.nn.init.constant(conv1.bias,val=0.1)\n"
     ]
    },
    {
     "data": {
      "text/plain": "Parameter containing:\ntensor([0.1000, 0.1000, 0.1000, 0.1000, 0.1000, 0.1000, 0.1000, 0.1000, 0.1000,\n        0.1000, 0.1000, 0.1000, 0.1000, 0.1000, 0.1000, 0.1000],\n       requires_grad=True)"
     },
     "execution_count": 3,
     "metadata": {},
     "output_type": "execute_result"
    }
   ],
   "source": [
    "##指定初始化偏置\n",
    "torch.nn.init.constant(conv1.bias,val=0.1)"
   ],
   "metadata": {
    "collapsed": false
   }
  },
  {
   "cell_type": "code",
   "execution_count": 4,
   "outputs": [
    {
     "name": "stdout",
     "output_type": "stream",
     "text": [
      "TestNet(\n",
      "  (convl): Conv2d(3, 16, kernel_size=(3, 3), stride=(1, 1))\n",
      "  (hidden): Sequential(\n",
      "    (0): Linear(in_features=100, out_features=100, bias=True)\n",
      "    (1): ReLU()\n",
      "    (2): Linear(in_features=100, out_features=50, bias=True)\n",
      "    (3): ReLU()\n",
      "  )\n",
      "  (cla): Linear(in_features=50, out_features=10, bias=True)\n",
      ")\n"
     ]
    }
   ],
   "source": [
    "##建立一个测试网络\n",
    "import torch.nn as nn\n",
    "class TestNet(nn.Module):\n",
    "    def __init__(self):\n",
    "        super(TestNet,self).__init__()\n",
    "        self.convl=nn.Conv2d(3,16,3)\n",
    "        self.hidden=nn.Sequential(\n",
    "            nn.Linear(100,100),\n",
    "            nn.ReLU(),\n",
    "            nn.Linear(100,50),\n",
    "            nn.ReLU(),\n",
    "        )\n",
    "        self.cla=nn.Linear(50,10)\n",
    "        ##定义网络定的前向传播路径\n",
    "    def forward(self,x):\n",
    "        x=self.convl(x)\n",
    "        x=x.view(x.shape[0],-1)\n",
    "        x=self.hidden(x)\n",
    "        output=self.cla(x)\n",
    "        return  output\n",
    "##输出我们的网络结构\n",
    "testnet=TestNet()\n",
    "print(testnet)"
   ],
   "metadata": {
    "collapsed": false
   }
  }
 ],
 "metadata": {
  "kernelspec": {
   "display_name": "Python 3",
   "language": "python",
   "name": "python3"
  },
  "language_info": {
   "codemirror_mode": {
    "name": "ipython",
    "version": 2
   },
   "file_extension": ".py",
   "mimetype": "text/x-python",
   "name": "python",
   "nbconvert_exporter": "python",
   "pygments_lexer": "ipython2",
   "version": "2.7.6"
  }
 },
 "nbformat": 4,
 "nbformat_minor": 0
}
