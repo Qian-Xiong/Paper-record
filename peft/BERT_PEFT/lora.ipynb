{
 "cells": [
  {
   "cell_type": "code",
   "execution_count": 1,
   "id": "initial_id",
   "metadata": {
    "collapsed": true,
    "jupyter": {
     "outputs_hidden": true
    },
    "ExecuteTime": {
     "end_time": "2024-05-14T12:37:55.842379Z",
     "start_time": "2024-05-14T12:37:29.602399Z"
    }
   },
   "outputs": [
    {
     "data": {
      "text/plain": "DatasetDict({\n    train: Dataset({\n        features: ['premise', 'hypothesis', 'label', 'idx'],\n        num_rows: 392702\n    })\n    validation_matched: Dataset({\n        features: ['premise', 'hypothesis', 'label', 'idx'],\n        num_rows: 9815\n    })\n    validation_mismatched: Dataset({\n        features: ['premise', 'hypothesis', 'label', 'idx'],\n        num_rows: 9832\n    })\n    test_matched: Dataset({\n        features: ['premise', 'hypothesis', 'label', 'idx'],\n        num_rows: 9796\n    })\n    test_mismatched: Dataset({\n        features: ['premise', 'hypothesis', 'label', 'idx'],\n        num_rows: 9847\n    })\n})"
     },
     "execution_count": 1,
     "metadata": {},
     "output_type": "execute_result"
    }
   ],
   "source": [
    "import warnings\n",
    "\n",
    "warnings.filterwarnings(\"ignore\")\n",
    "\n",
    "from datasets import load_dataset\n",
    "\n",
    "data = load_dataset(\"glue\", \"mnli\")\n",
    "data"
   ]
  },
  {
   "cell_type": "code",
   "execution_count": 2,
   "id": "3666d3aba3efacd6",
   "metadata": {
    "collapsed": false,
    "ExecuteTime": {
     "end_time": "2024-05-14T12:37:58.117663Z",
     "start_time": "2024-05-14T12:37:55.843382Z"
    }
   },
   "outputs": [],
   "source": [
    "from transformers import AutoTokenizer\n",
    "\n",
    "checkpoint = \"bert-base-uncased\"\n",
    "tokenizer = AutoTokenizer.from_pretrained(checkpoint)"
   ]
  },
  {
   "cell_type": "code",
   "execution_count": 3,
   "id": "bb8f41c3b7e82f25",
   "metadata": {
    "collapsed": false,
    "ExecuteTime": {
     "end_time": "2024-05-14T12:37:58.122897Z",
     "start_time": "2024-05-14T12:37:58.118666Z"
    }
   },
   "outputs": [],
   "source": [
    "def tokenize_fun(examples):\n",
    "    return tokenizer(examples[\"premise\"], examples[\"hypothesis\"], truncation=True)"
   ]
  },
  {
   "cell_type": "code",
   "execution_count": 4,
   "id": "78c905e6ad40b7a",
   "metadata": {
    "collapsed": false,
    "ExecuteTime": {
     "end_time": "2024-05-14T12:37:58.422950Z",
     "start_time": "2024-05-14T12:37:58.122897Z"
    }
   },
   "outputs": [
    {
     "data": {
      "text/plain": "DatasetDict({\n    train: Dataset({\n        features: ['premise', 'hypothesis', 'label', 'idx', 'input_ids', 'token_type_ids', 'attention_mask'],\n        num_rows: 392702\n    })\n    validation_matched: Dataset({\n        features: ['premise', 'hypothesis', 'label', 'idx', 'input_ids', 'token_type_ids', 'attention_mask'],\n        num_rows: 9815\n    })\n    validation_mismatched: Dataset({\n        features: ['premise', 'hypothesis', 'label', 'idx', 'input_ids', 'token_type_ids', 'attention_mask'],\n        num_rows: 9832\n    })\n    test_matched: Dataset({\n        features: ['premise', 'hypothesis', 'label', 'idx', 'input_ids', 'token_type_ids', 'attention_mask'],\n        num_rows: 9796\n    })\n    test_mismatched: Dataset({\n        features: ['premise', 'hypothesis', 'label', 'idx', 'input_ids', 'token_type_ids', 'attention_mask'],\n        num_rows: 9847\n    })\n})"
     },
     "execution_count": 4,
     "metadata": {},
     "output_type": "execute_result"
    }
   ],
   "source": [
    "tokenizer_datasets = data.map(tokenize_fun, batched=True)\n",
    "tokenizer_datasets"
   ]
  },
  {
   "cell_type": "code",
   "execution_count": 5,
   "id": "5676f48c1f7780d",
   "metadata": {
    "collapsed": false,
    "ExecuteTime": {
     "end_time": "2024-05-14T12:37:59.161729Z",
     "start_time": "2024-05-14T12:37:58.423968Z"
    }
   },
   "outputs": [],
   "source": [
    "#对数据集进行填充操作\n",
    "from transformers import DataCollatorWithPadding\n",
    "data_collator = DataCollatorWithPadding(tokenizer=tokenizer)"
   ]
  },
  {
   "cell_type": "code",
   "outputs": [],
   "source": [
    "from peft import LoraConfig, TaskType\n",
    "peft_config = LoraConfig(task_type=TaskType.SEQ_CLS, inference_mode=False, r=8, lora_alpha=32, lora_dropout=0.1)\n"
   ],
   "metadata": {
    "collapsed": false,
    "ExecuteTime": {
     "end_time": "2024-05-14T12:37:59.289500Z",
     "start_time": "2024-05-14T12:37:59.162733Z"
    }
   },
   "id": "2d8f28429bc35dd",
   "execution_count": 6
  },
  {
   "cell_type": "code",
   "outputs": [
    {
     "name": "stderr",
     "output_type": "stream",
     "text": [
      "Using the latest cached version of the module from C:\\Users\\admin\\.cache\\huggingface\\modules\\datasets_modules\\metrics\\accuracy\\9756d5fa4a0f9da966341741fc3926eafdc604b8276add51d5abbaa8958a25f9 (last modified on Mon May 13 15:29:26 2024) since it couldn't be found locally at accuracy, or remotely on the Hugging Face Hub.\n",
      "Some weights of BertForSequenceClassification were not initialized from the model checkpoint at bert-base-uncased and are newly initialized: ['classifier.bias', 'classifier.weight']\n",
      "You should probably TRAIN this model on a down-stream task to be able to use it for predictions and inference.\n"
     ]
    },
    {
     "name": "stdout",
     "output_type": "stream",
     "text": [
      "trainable params: 297,219 || all params: 109,781,766 || trainable%: 0.27073621679578375\n"
     ]
    },
    {
     "data": {
      "text/plain": "<IPython.core.display.HTML object>",
      "text/html": "\n    <div>\n      \n      <progress value='501' max='24544' style='width:300px; height:20px; vertical-align: middle;'></progress>\n      [  501/24544 00:57 < 45:55, 8.72 it/s, Epoch 0.02/1]\n    </div>\n    <table border=\"1\" class=\"dataframe\">\n  <thead>\n <tr style=\"text-align: left;\">\n      <th>Step</th>\n      <th>Training Loss</th>\n    </tr>\n  </thead>\n  <tbody>\n    <tr>\n      <td>50</td>\n      <td>1.123900</td>\n    </tr>\n    <tr>\n      <td>100</td>\n      <td>1.110000</td>\n    </tr>\n    <tr>\n      <td>150</td>\n      <td>1.104000</td>\n    </tr>\n    <tr>\n      <td>200</td>\n      <td>1.097700</td>\n    </tr>\n    <tr>\n      <td>250</td>\n      <td>1.088500</td>\n    </tr>\n    <tr>\n      <td>300</td>\n      <td>1.066800</td>\n    </tr>\n    <tr>\n      <td>350</td>\n      <td>1.047300</td>\n    </tr>\n    <tr>\n      <td>400</td>\n      <td>1.023600</td>\n    </tr>\n    <tr>\n      <td>450</td>\n      <td>1.002400</td>\n    </tr>\n  </tbody>\n</table><p>"
     },
     "metadata": {},
     "output_type": "display_data"
    },
    {
     "data": {
      "text/plain": "<IPython.core.display.HTML object>",
      "text/html": "\n    <div>\n      \n      <progress value='1001' max='24544' style='width:300px; height:20px; vertical-align: middle;'></progress>\n      [ 1001/24544 01:54 < 44:58, 8.72 it/s, Epoch 0.04/1]\n    </div>\n    <table border=\"1\" class=\"dataframe\">\n  <thead>\n <tr style=\"text-align: left;\">\n      <th>Step</th>\n      <th>Training Loss</th>\n    </tr>\n  </thead>\n  <tbody>\n    <tr>\n      <td>50</td>\n      <td>1.123900</td>\n    </tr>\n    <tr>\n      <td>100</td>\n      <td>1.110000</td>\n    </tr>\n    <tr>\n      <td>150</td>\n      <td>1.104000</td>\n    </tr>\n    <tr>\n      <td>200</td>\n      <td>1.097700</td>\n    </tr>\n    <tr>\n      <td>250</td>\n      <td>1.088500</td>\n    </tr>\n    <tr>\n      <td>300</td>\n      <td>1.066800</td>\n    </tr>\n    <tr>\n      <td>350</td>\n      <td>1.047300</td>\n    </tr>\n    <tr>\n      <td>400</td>\n      <td>1.023600</td>\n    </tr>\n    <tr>\n      <td>450</td>\n      <td>1.002400</td>\n    </tr>\n    <tr>\n      <td>500</td>\n      <td>1.002300</td>\n    </tr>\n    <tr>\n      <td>550</td>\n      <td>1.001700</td>\n    </tr>\n    <tr>\n      <td>600</td>\n      <td>0.968300</td>\n    </tr>\n    <tr>\n      <td>650</td>\n      <td>0.953200</td>\n    </tr>\n    <tr>\n      <td>700</td>\n      <td>0.988500</td>\n    </tr>\n    <tr>\n      <td>750</td>\n      <td>0.912200</td>\n    </tr>\n    <tr>\n      <td>800</td>\n      <td>0.927200</td>\n    </tr>\n    <tr>\n      <td>850</td>\n      <td>0.872800</td>\n    </tr>\n    <tr>\n      <td>900</td>\n      <td>0.872900</td>\n    </tr>\n    <tr>\n      <td>950</td>\n      <td>0.904700</td>\n    </tr>\n  </tbody>\n</table><p>"
     },
     "metadata": {},
     "output_type": "display_data"
    },
    {
     "data": {
      "text/plain": "<IPython.core.display.HTML object>",
      "text/html": "\n    <div>\n      \n      <progress value='1501' max='24544' style='width:300px; height:20px; vertical-align: middle;'></progress>\n      [ 1501/24544 02:50 < 43:44, 8.78 it/s, Epoch 0.06/1]\n    </div>\n    <table border=\"1\" class=\"dataframe\">\n  <thead>\n <tr style=\"text-align: left;\">\n      <th>Step</th>\n      <th>Training Loss</th>\n    </tr>\n  </thead>\n  <tbody>\n    <tr>\n      <td>50</td>\n      <td>1.123900</td>\n    </tr>\n    <tr>\n      <td>100</td>\n      <td>1.110000</td>\n    </tr>\n    <tr>\n      <td>150</td>\n      <td>1.104000</td>\n    </tr>\n    <tr>\n      <td>200</td>\n      <td>1.097700</td>\n    </tr>\n    <tr>\n      <td>250</td>\n      <td>1.088500</td>\n    </tr>\n    <tr>\n      <td>300</td>\n      <td>1.066800</td>\n    </tr>\n    <tr>\n      <td>350</td>\n      <td>1.047300</td>\n    </tr>\n    <tr>\n      <td>400</td>\n      <td>1.023600</td>\n    </tr>\n    <tr>\n      <td>450</td>\n      <td>1.002400</td>\n    </tr>\n    <tr>\n      <td>500</td>\n      <td>1.002300</td>\n    </tr>\n    <tr>\n      <td>550</td>\n      <td>1.001700</td>\n    </tr>\n    <tr>\n      <td>600</td>\n      <td>0.968300</td>\n    </tr>\n    <tr>\n      <td>650</td>\n      <td>0.953200</td>\n    </tr>\n    <tr>\n      <td>700</td>\n      <td>0.988500</td>\n    </tr>\n    <tr>\n      <td>750</td>\n      <td>0.912200</td>\n    </tr>\n    <tr>\n      <td>800</td>\n      <td>0.927200</td>\n    </tr>\n    <tr>\n      <td>850</td>\n      <td>0.872800</td>\n    </tr>\n    <tr>\n      <td>900</td>\n      <td>0.872900</td>\n    </tr>\n    <tr>\n      <td>950</td>\n      <td>0.904700</td>\n    </tr>\n    <tr>\n      <td>1000</td>\n      <td>0.843400</td>\n    </tr>\n    <tr>\n      <td>1050</td>\n      <td>0.893400</td>\n    </tr>\n    <tr>\n      <td>1100</td>\n      <td>0.863500</td>\n    </tr>\n    <tr>\n      <td>1150</td>\n      <td>0.835900</td>\n    </tr>\n    <tr>\n      <td>1200</td>\n      <td>0.853800</td>\n    </tr>\n    <tr>\n      <td>1250</td>\n      <td>0.851000</td>\n    </tr>\n    <tr>\n      <td>1300</td>\n      <td>0.853100</td>\n    </tr>\n    <tr>\n      <td>1350</td>\n      <td>0.766200</td>\n    </tr>\n    <tr>\n      <td>1400</td>\n      <td>0.818500</td>\n    </tr>\n    <tr>\n      <td>1450</td>\n      <td>0.843700</td>\n    </tr>\n  </tbody>\n</table><p>"
     },
     "metadata": {},
     "output_type": "display_data"
    },
    {
     "data": {
      "text/plain": "<IPython.core.display.HTML object>",
      "text/html": "\n    <div>\n      \n      <progress value='2001' max='24544' style='width:300px; height:20px; vertical-align: middle;'></progress>\n      [ 2001/24544 03:46 < 42:37, 8.81 it/s, Epoch 0.08/1]\n    </div>\n    <table border=\"1\" class=\"dataframe\">\n  <thead>\n <tr style=\"text-align: left;\">\n      <th>Step</th>\n      <th>Training Loss</th>\n    </tr>\n  </thead>\n  <tbody>\n    <tr>\n      <td>50</td>\n      <td>1.123900</td>\n    </tr>\n    <tr>\n      <td>100</td>\n      <td>1.110000</td>\n    </tr>\n    <tr>\n      <td>150</td>\n      <td>1.104000</td>\n    </tr>\n    <tr>\n      <td>200</td>\n      <td>1.097700</td>\n    </tr>\n    <tr>\n      <td>250</td>\n      <td>1.088500</td>\n    </tr>\n    <tr>\n      <td>300</td>\n      <td>1.066800</td>\n    </tr>\n    <tr>\n      <td>350</td>\n      <td>1.047300</td>\n    </tr>\n    <tr>\n      <td>400</td>\n      <td>1.023600</td>\n    </tr>\n    <tr>\n      <td>450</td>\n      <td>1.002400</td>\n    </tr>\n    <tr>\n      <td>500</td>\n      <td>1.002300</td>\n    </tr>\n    <tr>\n      <td>550</td>\n      <td>1.001700</td>\n    </tr>\n    <tr>\n      <td>600</td>\n      <td>0.968300</td>\n    </tr>\n    <tr>\n      <td>650</td>\n      <td>0.953200</td>\n    </tr>\n    <tr>\n      <td>700</td>\n      <td>0.988500</td>\n    </tr>\n    <tr>\n      <td>750</td>\n      <td>0.912200</td>\n    </tr>\n    <tr>\n      <td>800</td>\n      <td>0.927200</td>\n    </tr>\n    <tr>\n      <td>850</td>\n      <td>0.872800</td>\n    </tr>\n    <tr>\n      <td>900</td>\n      <td>0.872900</td>\n    </tr>\n    <tr>\n      <td>950</td>\n      <td>0.904700</td>\n    </tr>\n    <tr>\n      <td>1000</td>\n      <td>0.843400</td>\n    </tr>\n    <tr>\n      <td>1050</td>\n      <td>0.893400</td>\n    </tr>\n    <tr>\n      <td>1100</td>\n      <td>0.863500</td>\n    </tr>\n    <tr>\n      <td>1150</td>\n      <td>0.835900</td>\n    </tr>\n    <tr>\n      <td>1200</td>\n      <td>0.853800</td>\n    </tr>\n    <tr>\n      <td>1250</td>\n      <td>0.851000</td>\n    </tr>\n    <tr>\n      <td>1300</td>\n      <td>0.853100</td>\n    </tr>\n    <tr>\n      <td>1350</td>\n      <td>0.766200</td>\n    </tr>\n    <tr>\n      <td>1400</td>\n      <td>0.818500</td>\n    </tr>\n    <tr>\n      <td>1450</td>\n      <td>0.843700</td>\n    </tr>\n    <tr>\n      <td>1500</td>\n      <td>0.842000</td>\n    </tr>\n    <tr>\n      <td>1550</td>\n      <td>0.824700</td>\n    </tr>\n    <tr>\n      <td>1600</td>\n      <td>0.801000</td>\n    </tr>\n    <tr>\n      <td>1650</td>\n      <td>0.826400</td>\n    </tr>\n    <tr>\n      <td>1700</td>\n      <td>0.767800</td>\n    </tr>\n    <tr>\n      <td>1750</td>\n      <td>0.803200</td>\n    </tr>\n    <tr>\n      <td>1800</td>\n      <td>0.829900</td>\n    </tr>\n    <tr>\n      <td>1850</td>\n      <td>0.767000</td>\n    </tr>\n    <tr>\n      <td>1900</td>\n      <td>0.744400</td>\n    </tr>\n    <tr>\n      <td>1950</td>\n      <td>0.837100</td>\n    </tr>\n  </tbody>\n</table><p>"
     },
     "metadata": {},
     "output_type": "display_data"
    },
    {
     "data": {
      "text/plain": "<IPython.core.display.HTML object>",
      "text/html": "\n    <div>\n      \n      <progress value='2501' max='24544' style='width:300px; height:20px; vertical-align: middle;'></progress>\n      [ 2501/24544 05:05 < 44:56, 8.17 it/s, Epoch 0.10/1]\n    </div>\n    <table border=\"1\" class=\"dataframe\">\n  <thead>\n <tr style=\"text-align: left;\">\n      <th>Step</th>\n      <th>Training Loss</th>\n    </tr>\n  </thead>\n  <tbody>\n    <tr>\n      <td>50</td>\n      <td>1.123900</td>\n    </tr>\n    <tr>\n      <td>100</td>\n      <td>1.110000</td>\n    </tr>\n    <tr>\n      <td>150</td>\n      <td>1.104000</td>\n    </tr>\n    <tr>\n      <td>200</td>\n      <td>1.097700</td>\n    </tr>\n    <tr>\n      <td>250</td>\n      <td>1.088500</td>\n    </tr>\n    <tr>\n      <td>300</td>\n      <td>1.066800</td>\n    </tr>\n    <tr>\n      <td>350</td>\n      <td>1.047300</td>\n    </tr>\n    <tr>\n      <td>400</td>\n      <td>1.023600</td>\n    </tr>\n    <tr>\n      <td>450</td>\n      <td>1.002400</td>\n    </tr>\n    <tr>\n      <td>500</td>\n      <td>1.002300</td>\n    </tr>\n    <tr>\n      <td>550</td>\n      <td>1.001700</td>\n    </tr>\n    <tr>\n      <td>600</td>\n      <td>0.968300</td>\n    </tr>\n    <tr>\n      <td>650</td>\n      <td>0.953200</td>\n    </tr>\n    <tr>\n      <td>700</td>\n      <td>0.988500</td>\n    </tr>\n    <tr>\n      <td>750</td>\n      <td>0.912200</td>\n    </tr>\n    <tr>\n      <td>800</td>\n      <td>0.927200</td>\n    </tr>\n    <tr>\n      <td>850</td>\n      <td>0.872800</td>\n    </tr>\n    <tr>\n      <td>900</td>\n      <td>0.872900</td>\n    </tr>\n    <tr>\n      <td>950</td>\n      <td>0.904700</td>\n    </tr>\n    <tr>\n      <td>1000</td>\n      <td>0.843400</td>\n    </tr>\n    <tr>\n      <td>1050</td>\n      <td>0.893400</td>\n    </tr>\n    <tr>\n      <td>1100</td>\n      <td>0.863500</td>\n    </tr>\n    <tr>\n      <td>1150</td>\n      <td>0.835900</td>\n    </tr>\n    <tr>\n      <td>1200</td>\n      <td>0.853800</td>\n    </tr>\n    <tr>\n      <td>1250</td>\n      <td>0.851000</td>\n    </tr>\n    <tr>\n      <td>1300</td>\n      <td>0.853100</td>\n    </tr>\n    <tr>\n      <td>1350</td>\n      <td>0.766200</td>\n    </tr>\n    <tr>\n      <td>1400</td>\n      <td>0.818500</td>\n    </tr>\n    <tr>\n      <td>1450</td>\n      <td>0.843700</td>\n    </tr>\n    <tr>\n      <td>1500</td>\n      <td>0.842000</td>\n    </tr>\n    <tr>\n      <td>1550</td>\n      <td>0.824700</td>\n    </tr>\n    <tr>\n      <td>1600</td>\n      <td>0.801000</td>\n    </tr>\n    <tr>\n      <td>1650</td>\n      <td>0.826400</td>\n    </tr>\n    <tr>\n      <td>1700</td>\n      <td>0.767800</td>\n    </tr>\n    <tr>\n      <td>1750</td>\n      <td>0.803200</td>\n    </tr>\n    <tr>\n      <td>1800</td>\n      <td>0.829900</td>\n    </tr>\n    <tr>\n      <td>1850</td>\n      <td>0.767000</td>\n    </tr>\n    <tr>\n      <td>1900</td>\n      <td>0.744400</td>\n    </tr>\n    <tr>\n      <td>1950</td>\n      <td>0.837100</td>\n    </tr>\n    <tr>\n      <td>2000</td>\n      <td>0.813600</td>\n    </tr>\n    <tr>\n      <td>2050</td>\n      <td>0.804700</td>\n    </tr>\n    <tr>\n      <td>2100</td>\n      <td>0.804100</td>\n    </tr>\n    <tr>\n      <td>2150</td>\n      <td>0.766900</td>\n    </tr>\n    <tr>\n      <td>2200</td>\n      <td>0.751700</td>\n    </tr>\n    <tr>\n      <td>2250</td>\n      <td>0.783000</td>\n    </tr>\n    <tr>\n      <td>2300</td>\n      <td>0.778300</td>\n    </tr>\n    <tr>\n      <td>2350</td>\n      <td>0.753100</td>\n    </tr>\n    <tr>\n      <td>2400</td>\n      <td>0.798300</td>\n    </tr>\n    <tr>\n      <td>2450</td>\n      <td>0.770000</td>\n    </tr>\n  </tbody>\n</table><p>"
     },
     "metadata": {},
     "output_type": "display_data"
    },
    {
     "data": {
      "text/plain": "<IPython.core.display.HTML object>",
      "text/html": "\n    <div>\n      \n      <progress value='3001' max='24544' style='width:300px; height:20px; vertical-align: middle;'></progress>\n      [ 3001/24544 06:29 < 46:37, 7.70 it/s, Epoch 0.12/1]\n    </div>\n    <table border=\"1\" class=\"dataframe\">\n  <thead>\n <tr style=\"text-align: left;\">\n      <th>Step</th>\n      <th>Training Loss</th>\n    </tr>\n  </thead>\n  <tbody>\n    <tr>\n      <td>50</td>\n      <td>1.123900</td>\n    </tr>\n    <tr>\n      <td>100</td>\n      <td>1.110000</td>\n    </tr>\n    <tr>\n      <td>150</td>\n      <td>1.104000</td>\n    </tr>\n    <tr>\n      <td>200</td>\n      <td>1.097700</td>\n    </tr>\n    <tr>\n      <td>250</td>\n      <td>1.088500</td>\n    </tr>\n    <tr>\n      <td>300</td>\n      <td>1.066800</td>\n    </tr>\n    <tr>\n      <td>350</td>\n      <td>1.047300</td>\n    </tr>\n    <tr>\n      <td>400</td>\n      <td>1.023600</td>\n    </tr>\n    <tr>\n      <td>450</td>\n      <td>1.002400</td>\n    </tr>\n    <tr>\n      <td>500</td>\n      <td>1.002300</td>\n    </tr>\n    <tr>\n      <td>550</td>\n      <td>1.001700</td>\n    </tr>\n    <tr>\n      <td>600</td>\n      <td>0.968300</td>\n    </tr>\n    <tr>\n      <td>650</td>\n      <td>0.953200</td>\n    </tr>\n    <tr>\n      <td>700</td>\n      <td>0.988500</td>\n    </tr>\n    <tr>\n      <td>750</td>\n      <td>0.912200</td>\n    </tr>\n    <tr>\n      <td>800</td>\n      <td>0.927200</td>\n    </tr>\n    <tr>\n      <td>850</td>\n      <td>0.872800</td>\n    </tr>\n    <tr>\n      <td>900</td>\n      <td>0.872900</td>\n    </tr>\n    <tr>\n      <td>950</td>\n      <td>0.904700</td>\n    </tr>\n    <tr>\n      <td>1000</td>\n      <td>0.843400</td>\n    </tr>\n    <tr>\n      <td>1050</td>\n      <td>0.893400</td>\n    </tr>\n    <tr>\n      <td>1100</td>\n      <td>0.863500</td>\n    </tr>\n    <tr>\n      <td>1150</td>\n      <td>0.835900</td>\n    </tr>\n    <tr>\n      <td>1200</td>\n      <td>0.853800</td>\n    </tr>\n    <tr>\n      <td>1250</td>\n      <td>0.851000</td>\n    </tr>\n    <tr>\n      <td>1300</td>\n      <td>0.853100</td>\n    </tr>\n    <tr>\n      <td>1350</td>\n      <td>0.766200</td>\n    </tr>\n    <tr>\n      <td>1400</td>\n      <td>0.818500</td>\n    </tr>\n    <tr>\n      <td>1450</td>\n      <td>0.843700</td>\n    </tr>\n    <tr>\n      <td>1500</td>\n      <td>0.842000</td>\n    </tr>\n    <tr>\n      <td>1550</td>\n      <td>0.824700</td>\n    </tr>\n    <tr>\n      <td>1600</td>\n      <td>0.801000</td>\n    </tr>\n    <tr>\n      <td>1650</td>\n      <td>0.826400</td>\n    </tr>\n    <tr>\n      <td>1700</td>\n      <td>0.767800</td>\n    </tr>\n    <tr>\n      <td>1750</td>\n      <td>0.803200</td>\n    </tr>\n    <tr>\n      <td>1800</td>\n      <td>0.829900</td>\n    </tr>\n    <tr>\n      <td>1850</td>\n      <td>0.767000</td>\n    </tr>\n    <tr>\n      <td>1900</td>\n      <td>0.744400</td>\n    </tr>\n    <tr>\n      <td>1950</td>\n      <td>0.837100</td>\n    </tr>\n    <tr>\n      <td>2000</td>\n      <td>0.813600</td>\n    </tr>\n    <tr>\n      <td>2050</td>\n      <td>0.804700</td>\n    </tr>\n    <tr>\n      <td>2100</td>\n      <td>0.804100</td>\n    </tr>\n    <tr>\n      <td>2150</td>\n      <td>0.766900</td>\n    </tr>\n    <tr>\n      <td>2200</td>\n      <td>0.751700</td>\n    </tr>\n    <tr>\n      <td>2250</td>\n      <td>0.783000</td>\n    </tr>\n    <tr>\n      <td>2300</td>\n      <td>0.778300</td>\n    </tr>\n    <tr>\n      <td>2350</td>\n      <td>0.753100</td>\n    </tr>\n    <tr>\n      <td>2400</td>\n      <td>0.798300</td>\n    </tr>\n    <tr>\n      <td>2450</td>\n      <td>0.770000</td>\n    </tr>\n    <tr>\n      <td>2500</td>\n      <td>0.788100</td>\n    </tr>\n    <tr>\n      <td>2550</td>\n      <td>0.785800</td>\n    </tr>\n    <tr>\n      <td>2600</td>\n      <td>0.732600</td>\n    </tr>\n    <tr>\n      <td>2650</td>\n      <td>0.691300</td>\n    </tr>\n    <tr>\n      <td>2700</td>\n      <td>0.707000</td>\n    </tr>\n    <tr>\n      <td>2750</td>\n      <td>0.763200</td>\n    </tr>\n    <tr>\n      <td>2800</td>\n      <td>0.719500</td>\n    </tr>\n    <tr>\n      <td>2850</td>\n      <td>0.726800</td>\n    </tr>\n    <tr>\n      <td>2900</td>\n      <td>0.783900</td>\n    </tr>\n    <tr>\n      <td>2950</td>\n      <td>0.725800</td>\n    </tr>\n  </tbody>\n</table><p>"
     },
     "metadata": {},
     "output_type": "display_data"
    },
    {
     "data": {
      "text/plain": "<IPython.core.display.HTML object>",
      "text/html": "\n    <div>\n      \n      <progress value='3501' max='24544' style='width:300px; height:20px; vertical-align: middle;'></progress>\n      [ 3501/24544 08:00 < 48:08, 7.29 it/s, Epoch 0.14/1]\n    </div>\n    <table border=\"1\" class=\"dataframe\">\n  <thead>\n <tr style=\"text-align: left;\">\n      <th>Step</th>\n      <th>Training Loss</th>\n    </tr>\n  </thead>\n  <tbody>\n    <tr>\n      <td>50</td>\n      <td>1.123900</td>\n    </tr>\n    <tr>\n      <td>100</td>\n      <td>1.110000</td>\n    </tr>\n    <tr>\n      <td>150</td>\n      <td>1.104000</td>\n    </tr>\n    <tr>\n      <td>200</td>\n      <td>1.097700</td>\n    </tr>\n    <tr>\n      <td>250</td>\n      <td>1.088500</td>\n    </tr>\n    <tr>\n      <td>300</td>\n      <td>1.066800</td>\n    </tr>\n    <tr>\n      <td>350</td>\n      <td>1.047300</td>\n    </tr>\n    <tr>\n      <td>400</td>\n      <td>1.023600</td>\n    </tr>\n    <tr>\n      <td>450</td>\n      <td>1.002400</td>\n    </tr>\n    <tr>\n      <td>500</td>\n      <td>1.002300</td>\n    </tr>\n    <tr>\n      <td>550</td>\n      <td>1.001700</td>\n    </tr>\n    <tr>\n      <td>600</td>\n      <td>0.968300</td>\n    </tr>\n    <tr>\n      <td>650</td>\n      <td>0.953200</td>\n    </tr>\n    <tr>\n      <td>700</td>\n      <td>0.988500</td>\n    </tr>\n    <tr>\n      <td>750</td>\n      <td>0.912200</td>\n    </tr>\n    <tr>\n      <td>800</td>\n      <td>0.927200</td>\n    </tr>\n    <tr>\n      <td>850</td>\n      <td>0.872800</td>\n    </tr>\n    <tr>\n      <td>900</td>\n      <td>0.872900</td>\n    </tr>\n    <tr>\n      <td>950</td>\n      <td>0.904700</td>\n    </tr>\n    <tr>\n      <td>1000</td>\n      <td>0.843400</td>\n    </tr>\n    <tr>\n      <td>1050</td>\n      <td>0.893400</td>\n    </tr>\n    <tr>\n      <td>1100</td>\n      <td>0.863500</td>\n    </tr>\n    <tr>\n      <td>1150</td>\n      <td>0.835900</td>\n    </tr>\n    <tr>\n      <td>1200</td>\n      <td>0.853800</td>\n    </tr>\n    <tr>\n      <td>1250</td>\n      <td>0.851000</td>\n    </tr>\n    <tr>\n      <td>1300</td>\n      <td>0.853100</td>\n    </tr>\n    <tr>\n      <td>1350</td>\n      <td>0.766200</td>\n    </tr>\n    <tr>\n      <td>1400</td>\n      <td>0.818500</td>\n    </tr>\n    <tr>\n      <td>1450</td>\n      <td>0.843700</td>\n    </tr>\n    <tr>\n      <td>1500</td>\n      <td>0.842000</td>\n    </tr>\n    <tr>\n      <td>1550</td>\n      <td>0.824700</td>\n    </tr>\n    <tr>\n      <td>1600</td>\n      <td>0.801000</td>\n    </tr>\n    <tr>\n      <td>1650</td>\n      <td>0.826400</td>\n    </tr>\n    <tr>\n      <td>1700</td>\n      <td>0.767800</td>\n    </tr>\n    <tr>\n      <td>1750</td>\n      <td>0.803200</td>\n    </tr>\n    <tr>\n      <td>1800</td>\n      <td>0.829900</td>\n    </tr>\n    <tr>\n      <td>1850</td>\n      <td>0.767000</td>\n    </tr>\n    <tr>\n      <td>1900</td>\n      <td>0.744400</td>\n    </tr>\n    <tr>\n      <td>1950</td>\n      <td>0.837100</td>\n    </tr>\n    <tr>\n      <td>2000</td>\n      <td>0.813600</td>\n    </tr>\n    <tr>\n      <td>2050</td>\n      <td>0.804700</td>\n    </tr>\n    <tr>\n      <td>2100</td>\n      <td>0.804100</td>\n    </tr>\n    <tr>\n      <td>2150</td>\n      <td>0.766900</td>\n    </tr>\n    <tr>\n      <td>2200</td>\n      <td>0.751700</td>\n    </tr>\n    <tr>\n      <td>2250</td>\n      <td>0.783000</td>\n    </tr>\n    <tr>\n      <td>2300</td>\n      <td>0.778300</td>\n    </tr>\n    <tr>\n      <td>2350</td>\n      <td>0.753100</td>\n    </tr>\n    <tr>\n      <td>2400</td>\n      <td>0.798300</td>\n    </tr>\n    <tr>\n      <td>2450</td>\n      <td>0.770000</td>\n    </tr>\n    <tr>\n      <td>2500</td>\n      <td>0.788100</td>\n    </tr>\n    <tr>\n      <td>2550</td>\n      <td>0.785800</td>\n    </tr>\n    <tr>\n      <td>2600</td>\n      <td>0.732600</td>\n    </tr>\n    <tr>\n      <td>2650</td>\n      <td>0.691300</td>\n    </tr>\n    <tr>\n      <td>2700</td>\n      <td>0.707000</td>\n    </tr>\n    <tr>\n      <td>2750</td>\n      <td>0.763200</td>\n    </tr>\n    <tr>\n      <td>2800</td>\n      <td>0.719500</td>\n    </tr>\n    <tr>\n      <td>2850</td>\n      <td>0.726800</td>\n    </tr>\n    <tr>\n      <td>2900</td>\n      <td>0.783900</td>\n    </tr>\n    <tr>\n      <td>2950</td>\n      <td>0.725800</td>\n    </tr>\n    <tr>\n      <td>3000</td>\n      <td>0.760100</td>\n    </tr>\n    <tr>\n      <td>3050</td>\n      <td>0.707100</td>\n    </tr>\n    <tr>\n      <td>3100</td>\n      <td>0.772200</td>\n    </tr>\n    <tr>\n      <td>3150</td>\n      <td>0.724100</td>\n    </tr>\n    <tr>\n      <td>3200</td>\n      <td>0.740800</td>\n    </tr>\n    <tr>\n      <td>3250</td>\n      <td>0.734300</td>\n    </tr>\n    <tr>\n      <td>3300</td>\n      <td>0.754600</td>\n    </tr>\n    <tr>\n      <td>3350</td>\n      <td>0.693300</td>\n    </tr>\n    <tr>\n      <td>3400</td>\n      <td>0.762100</td>\n    </tr>\n    <tr>\n      <td>3450</td>\n      <td>0.734200</td>\n    </tr>\n  </tbody>\n</table><p>"
     },
     "metadata": {},
     "output_type": "display_data"
    },
    {
     "data": {
      "text/plain": "<IPython.core.display.HTML object>",
      "text/html": "\n    <div>\n      \n      <progress value='3921' max='24544' style='width:300px; height:20px; vertical-align: middle;'></progress>\n      [ 3921/24544 15:47 < 1:23:07, 4.14 it/s, Epoch 0.16/1]\n    </div>\n    <table border=\"1\" class=\"dataframe\">\n  <thead>\n <tr style=\"text-align: left;\">\n      <th>Step</th>\n      <th>Training Loss</th>\n    </tr>\n  </thead>\n  <tbody>\n    <tr>\n      <td>50</td>\n      <td>1.123900</td>\n    </tr>\n    <tr>\n      <td>100</td>\n      <td>1.110000</td>\n    </tr>\n    <tr>\n      <td>150</td>\n      <td>1.104000</td>\n    </tr>\n    <tr>\n      <td>200</td>\n      <td>1.097700</td>\n    </tr>\n    <tr>\n      <td>250</td>\n      <td>1.088500</td>\n    </tr>\n    <tr>\n      <td>300</td>\n      <td>1.066800</td>\n    </tr>\n    <tr>\n      <td>350</td>\n      <td>1.047300</td>\n    </tr>\n    <tr>\n      <td>400</td>\n      <td>1.023600</td>\n    </tr>\n    <tr>\n      <td>450</td>\n      <td>1.002400</td>\n    </tr>\n    <tr>\n      <td>500</td>\n      <td>1.002300</td>\n    </tr>\n    <tr>\n      <td>550</td>\n      <td>1.001700</td>\n    </tr>\n    <tr>\n      <td>600</td>\n      <td>0.968300</td>\n    </tr>\n    <tr>\n      <td>650</td>\n      <td>0.953200</td>\n    </tr>\n    <tr>\n      <td>700</td>\n      <td>0.988500</td>\n    </tr>\n    <tr>\n      <td>750</td>\n      <td>0.912200</td>\n    </tr>\n    <tr>\n      <td>800</td>\n      <td>0.927200</td>\n    </tr>\n    <tr>\n      <td>850</td>\n      <td>0.872800</td>\n    </tr>\n    <tr>\n      <td>900</td>\n      <td>0.872900</td>\n    </tr>\n    <tr>\n      <td>950</td>\n      <td>0.904700</td>\n    </tr>\n    <tr>\n      <td>1000</td>\n      <td>0.843400</td>\n    </tr>\n    <tr>\n      <td>1050</td>\n      <td>0.893400</td>\n    </tr>\n    <tr>\n      <td>1100</td>\n      <td>0.863500</td>\n    </tr>\n    <tr>\n      <td>1150</td>\n      <td>0.835900</td>\n    </tr>\n    <tr>\n      <td>1200</td>\n      <td>0.853800</td>\n    </tr>\n    <tr>\n      <td>1250</td>\n      <td>0.851000</td>\n    </tr>\n    <tr>\n      <td>1300</td>\n      <td>0.853100</td>\n    </tr>\n    <tr>\n      <td>1350</td>\n      <td>0.766200</td>\n    </tr>\n    <tr>\n      <td>1400</td>\n      <td>0.818500</td>\n    </tr>\n    <tr>\n      <td>1450</td>\n      <td>0.843700</td>\n    </tr>\n    <tr>\n      <td>1500</td>\n      <td>0.842000</td>\n    </tr>\n    <tr>\n      <td>1550</td>\n      <td>0.824700</td>\n    </tr>\n    <tr>\n      <td>1600</td>\n      <td>0.801000</td>\n    </tr>\n    <tr>\n      <td>1650</td>\n      <td>0.826400</td>\n    </tr>\n    <tr>\n      <td>1700</td>\n      <td>0.767800</td>\n    </tr>\n    <tr>\n      <td>1750</td>\n      <td>0.803200</td>\n    </tr>\n    <tr>\n      <td>1800</td>\n      <td>0.829900</td>\n    </tr>\n    <tr>\n      <td>1850</td>\n      <td>0.767000</td>\n    </tr>\n    <tr>\n      <td>1900</td>\n      <td>0.744400</td>\n    </tr>\n    <tr>\n      <td>1950</td>\n      <td>0.837100</td>\n    </tr>\n    <tr>\n      <td>2000</td>\n      <td>0.813600</td>\n    </tr>\n    <tr>\n      <td>2050</td>\n      <td>0.804700</td>\n    </tr>\n    <tr>\n      <td>2100</td>\n      <td>0.804100</td>\n    </tr>\n    <tr>\n      <td>2150</td>\n      <td>0.766900</td>\n    </tr>\n    <tr>\n      <td>2200</td>\n      <td>0.751700</td>\n    </tr>\n    <tr>\n      <td>2250</td>\n      <td>0.783000</td>\n    </tr>\n    <tr>\n      <td>2300</td>\n      <td>0.778300</td>\n    </tr>\n    <tr>\n      <td>2350</td>\n      <td>0.753100</td>\n    </tr>\n    <tr>\n      <td>2400</td>\n      <td>0.798300</td>\n    </tr>\n    <tr>\n      <td>2450</td>\n      <td>0.770000</td>\n    </tr>\n    <tr>\n      <td>2500</td>\n      <td>0.788100</td>\n    </tr>\n    <tr>\n      <td>2550</td>\n      <td>0.785800</td>\n    </tr>\n    <tr>\n      <td>2600</td>\n      <td>0.732600</td>\n    </tr>\n    <tr>\n      <td>2650</td>\n      <td>0.691300</td>\n    </tr>\n    <tr>\n      <td>2700</td>\n      <td>0.707000</td>\n    </tr>\n    <tr>\n      <td>2750</td>\n      <td>0.763200</td>\n    </tr>\n    <tr>\n      <td>2800</td>\n      <td>0.719500</td>\n    </tr>\n    <tr>\n      <td>2850</td>\n      <td>0.726800</td>\n    </tr>\n    <tr>\n      <td>2900</td>\n      <td>0.783900</td>\n    </tr>\n    <tr>\n      <td>2950</td>\n      <td>0.725800</td>\n    </tr>\n    <tr>\n      <td>3000</td>\n      <td>0.760100</td>\n    </tr>\n    <tr>\n      <td>3050</td>\n      <td>0.707100</td>\n    </tr>\n    <tr>\n      <td>3100</td>\n      <td>0.772200</td>\n    </tr>\n    <tr>\n      <td>3150</td>\n      <td>0.724100</td>\n    </tr>\n    <tr>\n      <td>3200</td>\n      <td>0.740800</td>\n    </tr>\n    <tr>\n      <td>3250</td>\n      <td>0.734300</td>\n    </tr>\n    <tr>\n      <td>3300</td>\n      <td>0.754600</td>\n    </tr>\n    <tr>\n      <td>3350</td>\n      <td>0.693300</td>\n    </tr>\n    <tr>\n      <td>3400</td>\n      <td>0.762100</td>\n    </tr>\n    <tr>\n      <td>3450</td>\n      <td>0.734200</td>\n    </tr>\n    <tr>\n      <td>3500</td>\n      <td>0.734000</td>\n    </tr>\n    <tr>\n      <td>3550</td>\n      <td>0.750100</td>\n    </tr>\n    <tr>\n      <td>3600</td>\n      <td>0.717500</td>\n    </tr>\n    <tr>\n      <td>3650</td>\n      <td>0.706000</td>\n    </tr>\n    <tr>\n      <td>3700</td>\n      <td>0.727300</td>\n    </tr>\n    <tr>\n      <td>3750</td>\n      <td>0.739000</td>\n    </tr>\n    <tr>\n      <td>3800</td>\n      <td>0.724800</td>\n    </tr>\n    <tr>\n      <td>3850</td>\n      <td>0.784400</td>\n    </tr>\n    <tr>\n      <td>3900</td>\n      <td>0.749300</td>\n    </tr>\n  </tbody>\n</table><p>"
     },
     "metadata": {},
     "output_type": "display_data"
    },
    {
     "ename": "KeyboardInterrupt",
     "evalue": "",
     "output_type": "error",
     "traceback": [
      "\u001B[1;31m---------------------------------------------------------------------------\u001B[0m",
      "\u001B[1;31mKeyboardInterrupt\u001B[0m                         Traceback (most recent call last)",
      "Cell \u001B[1;32mIn[14], line 36\u001B[0m\n\u001B[0;32m     25\u001B[0m model\u001B[38;5;241m.\u001B[39mprint_trainable_parameters()\n\u001B[0;32m     27\u001B[0m trainer \u001B[38;5;241m=\u001B[39m Trainer(\n\u001B[0;32m     28\u001B[0m     model,\n\u001B[0;32m     29\u001B[0m     training_args,\n\u001B[1;32m   (...)\u001B[0m\n\u001B[0;32m     34\u001B[0m     compute_metrics\u001B[38;5;241m=\u001B[39mcompute_metrics,\n\u001B[0;32m     35\u001B[0m )\n\u001B[1;32m---> 36\u001B[0m trainer\u001B[38;5;241m.\u001B[39mtrain()\n",
      "File \u001B[1;32mC:\\ProgramData\\anaconda3\\Lib\\site-packages\\transformers\\trainer.py:1624\u001B[0m, in \u001B[0;36mTrainer.train\u001B[1;34m(self, resume_from_checkpoint, trial, ignore_keys_for_eval, **kwargs)\u001B[0m\n\u001B[0;32m   1622\u001B[0m         hf_hub_utils\u001B[38;5;241m.\u001B[39menable_progress_bars()\n\u001B[0;32m   1623\u001B[0m \u001B[38;5;28;01melse\u001B[39;00m:\n\u001B[1;32m-> 1624\u001B[0m     \u001B[38;5;28;01mreturn\u001B[39;00m inner_training_loop(\n\u001B[0;32m   1625\u001B[0m         args\u001B[38;5;241m=\u001B[39margs,\n\u001B[0;32m   1626\u001B[0m         resume_from_checkpoint\u001B[38;5;241m=\u001B[39mresume_from_checkpoint,\n\u001B[0;32m   1627\u001B[0m         trial\u001B[38;5;241m=\u001B[39mtrial,\n\u001B[0;32m   1628\u001B[0m         ignore_keys_for_eval\u001B[38;5;241m=\u001B[39mignore_keys_for_eval,\n\u001B[0;32m   1629\u001B[0m     )\n",
      "File \u001B[1;32mC:\\ProgramData\\anaconda3\\Lib\\site-packages\\transformers\\trainer.py:1966\u001B[0m, in \u001B[0;36mTrainer._inner_training_loop\u001B[1;34m(self, batch_size, args, resume_from_checkpoint, trial, ignore_keys_for_eval)\u001B[0m\n\u001B[0;32m   1960\u001B[0m \u001B[38;5;28;01mwith\u001B[39;00m \u001B[38;5;28mself\u001B[39m\u001B[38;5;241m.\u001B[39maccelerator\u001B[38;5;241m.\u001B[39maccumulate(model):\n\u001B[0;32m   1961\u001B[0m     tr_loss_step \u001B[38;5;241m=\u001B[39m \u001B[38;5;28mself\u001B[39m\u001B[38;5;241m.\u001B[39mtraining_step(model, inputs)\n\u001B[0;32m   1963\u001B[0m \u001B[38;5;28;01mif\u001B[39;00m (\n\u001B[0;32m   1964\u001B[0m     args\u001B[38;5;241m.\u001B[39mlogging_nan_inf_filter\n\u001B[0;32m   1965\u001B[0m     \u001B[38;5;129;01mand\u001B[39;00m \u001B[38;5;129;01mnot\u001B[39;00m is_torch_tpu_available()\n\u001B[1;32m-> 1966\u001B[0m     \u001B[38;5;129;01mand\u001B[39;00m (torch\u001B[38;5;241m.\u001B[39misnan(tr_loss_step) \u001B[38;5;129;01mor\u001B[39;00m torch\u001B[38;5;241m.\u001B[39misinf(tr_loss_step))\n\u001B[0;32m   1967\u001B[0m ):\n\u001B[0;32m   1968\u001B[0m     \u001B[38;5;66;03m# if loss is nan or inf simply add the average of previous logged losses\u001B[39;00m\n\u001B[0;32m   1969\u001B[0m     tr_loss \u001B[38;5;241m+\u001B[39m\u001B[38;5;241m=\u001B[39m tr_loss \u001B[38;5;241m/\u001B[39m (\u001B[38;5;241m1\u001B[39m \u001B[38;5;241m+\u001B[39m \u001B[38;5;28mself\u001B[39m\u001B[38;5;241m.\u001B[39mstate\u001B[38;5;241m.\u001B[39mglobal_step \u001B[38;5;241m-\u001B[39m \u001B[38;5;28mself\u001B[39m\u001B[38;5;241m.\u001B[39m_globalstep_last_logged)\n\u001B[0;32m   1970\u001B[0m \u001B[38;5;28;01melse\u001B[39;00m:\n",
      "\u001B[1;31mKeyboardInterrupt\u001B[0m: "
     ]
    }
   ],
   "source": [
    "#训练参数\n",
    "from transformers import TrainingArguments\n",
    "from transformers import AutoModelForSequenceClassification\n",
    "from transformers import Trainer\n",
    "import numpy as np\n",
    "from datasets import load_metric\n",
    "from peft import LoraConfig, TaskType\n",
    "from peft import get_peft_model\n",
    "\n",
    "metric = load_metric(\"accuracy\")\n",
    "\n",
    "def compute_metrics(eval_preds): \n",
    "    predictions, labels = eval_preds\n",
    "    predictions = np.argmax(predictions, axis=1)\n",
    "    return metric.compute(predictions=predictions, references=labels)\n",
    "training_args = TrainingArguments(\"out_files\",\n",
    "                                  per_device_train_batch_size=16,\n",
    "                                  num_train_epochs=1,\n",
    "                                  logging_steps=50,\n",
    "                                  evaluation_strategy='no')\n",
    "model = AutoModelForSequenceClassification.from_pretrained(checkpoint, num_labels=3)\n",
    "\n",
    "peft_config = LoraConfig(task_type=TaskType.SEQ_CLS, inference_mode=False, r=8, lora_alpha=32, lora_dropout=0.1)\n",
    "model = get_peft_model(model, peft_config)\n",
    "model.print_trainable_parameters()\n",
    "\n",
    "trainer = Trainer(\n",
    "    model,\n",
    "    training_args,\n",
    "    train_dataset=tokenizer_datasets[\"train\"],\n",
    "    eval_dataset=tokenizer_datasets[\"validation_matched\"],\n",
    "    data_collator=data_collator,\n",
    "    tokenizer=tokenizer,\n",
    "    compute_metrics=compute_metrics,\n",
    ")\n",
    "trainer.train()"
   ],
   "metadata": {
    "collapsed": false,
    "ExecuteTime": {
     "end_time": "2024-05-14T13:10:47.550642Z",
     "start_time": "2024-05-14T12:54:52.842267Z"
    }
   },
   "id": "b2a4909b67b2d646",
   "execution_count": 14
  },
  {
   "cell_type": "code",
   "execution_count": null,
   "id": "efcfecce86630fb3",
   "metadata": {
    "collapsed": false,
    "ExecuteTime": {
     "start_time": "2024-05-14T12:40:06.917843Z"
    }
   },
   "outputs": [],
   "source": [
    "# from transformers import Trainer\n",
    "# \n",
    "# trainer = Trainer(\n",
    "#     model=model,\n",
    "#     args=training_args,\n",
    "#     train_dataset=tokenizer_datasets[\"train\"],  #取前20000个样本\n",
    "#     eval_dataset=tokenizer_datasets[\"validation_matched\"],\n",
    "#     data_collator=data_collator,\n",
    "#     tokenizer=tokenizer,\n",
    "#     compute_metrics=compute_metrics\n",
    "# )\n",
    "# \n",
    "# \n"
   ]
  },
  {
   "cell_type": "code",
   "outputs": [],
   "source": [
    "# trainer.train()"
   ],
   "metadata": {
    "collapsed": false,
    "ExecuteTime": {
     "start_time": "2024-05-14T12:40:06.918835Z"
    }
   },
   "id": "c6c066cd1768cf6e",
   "execution_count": null
  },
  {
   "cell_type": "code",
   "execution_count": 16,
   "id": "f2535bfe21d65650",
   "metadata": {
    "collapsed": false,
    "ExecuteTime": {
     "end_time": "2024-05-14T13:12:27.054334Z",
     "start_time": "2024-05-14T13:11:48.112176Z"
    }
   },
   "outputs": [
    {
     "data": {
      "text/plain": "<IPython.core.display.HTML object>",
      "text/html": "\n    <div>\n      \n      <progress value='3921' max='24544' style='width:300px; height:20px; vertical-align: middle;'></progress>\n      [ 3921/24544 15:47 < 1:23:07, 4.14 it/s, Epoch 0.16/1]\n    </div>\n    <table border=\"1\" class=\"dataframe\">\n  <thead>\n <tr style=\"text-align: left;\">\n      <th>Step</th>\n      <th>Training Loss</th>\n    </tr>\n  </thead>\n  <tbody>\n    <tr>\n      <td>50</td>\n      <td>1.123900</td>\n    </tr>\n    <tr>\n      <td>100</td>\n      <td>1.110000</td>\n    </tr>\n    <tr>\n      <td>150</td>\n      <td>1.104000</td>\n    </tr>\n    <tr>\n      <td>200</td>\n      <td>1.097700</td>\n    </tr>\n    <tr>\n      <td>250</td>\n      <td>1.088500</td>\n    </tr>\n    <tr>\n      <td>300</td>\n      <td>1.066800</td>\n    </tr>\n    <tr>\n      <td>350</td>\n      <td>1.047300</td>\n    </tr>\n    <tr>\n      <td>400</td>\n      <td>1.023600</td>\n    </tr>\n    <tr>\n      <td>450</td>\n      <td>1.002400</td>\n    </tr>\n    <tr>\n      <td>500</td>\n      <td>1.002300</td>\n    </tr>\n    <tr>\n      <td>550</td>\n      <td>1.001700</td>\n    </tr>\n    <tr>\n      <td>600</td>\n      <td>0.968300</td>\n    </tr>\n    <tr>\n      <td>650</td>\n      <td>0.953200</td>\n    </tr>\n    <tr>\n      <td>700</td>\n      <td>0.988500</td>\n    </tr>\n    <tr>\n      <td>750</td>\n      <td>0.912200</td>\n    </tr>\n    <tr>\n      <td>800</td>\n      <td>0.927200</td>\n    </tr>\n    <tr>\n      <td>850</td>\n      <td>0.872800</td>\n    </tr>\n    <tr>\n      <td>900</td>\n      <td>0.872900</td>\n    </tr>\n    <tr>\n      <td>950</td>\n      <td>0.904700</td>\n    </tr>\n    <tr>\n      <td>1000</td>\n      <td>0.843400</td>\n    </tr>\n    <tr>\n      <td>1050</td>\n      <td>0.893400</td>\n    </tr>\n    <tr>\n      <td>1100</td>\n      <td>0.863500</td>\n    </tr>\n    <tr>\n      <td>1150</td>\n      <td>0.835900</td>\n    </tr>\n    <tr>\n      <td>1200</td>\n      <td>0.853800</td>\n    </tr>\n    <tr>\n      <td>1250</td>\n      <td>0.851000</td>\n    </tr>\n    <tr>\n      <td>1300</td>\n      <td>0.853100</td>\n    </tr>\n    <tr>\n      <td>1350</td>\n      <td>0.766200</td>\n    </tr>\n    <tr>\n      <td>1400</td>\n      <td>0.818500</td>\n    </tr>\n    <tr>\n      <td>1450</td>\n      <td>0.843700</td>\n    </tr>\n    <tr>\n      <td>1500</td>\n      <td>0.842000</td>\n    </tr>\n    <tr>\n      <td>1550</td>\n      <td>0.824700</td>\n    </tr>\n    <tr>\n      <td>1600</td>\n      <td>0.801000</td>\n    </tr>\n    <tr>\n      <td>1650</td>\n      <td>0.826400</td>\n    </tr>\n    <tr>\n      <td>1700</td>\n      <td>0.767800</td>\n    </tr>\n    <tr>\n      <td>1750</td>\n      <td>0.803200</td>\n    </tr>\n    <tr>\n      <td>1800</td>\n      <td>0.829900</td>\n    </tr>\n    <tr>\n      <td>1850</td>\n      <td>0.767000</td>\n    </tr>\n    <tr>\n      <td>1900</td>\n      <td>0.744400</td>\n    </tr>\n    <tr>\n      <td>1950</td>\n      <td>0.837100</td>\n    </tr>\n    <tr>\n      <td>2000</td>\n      <td>0.813600</td>\n    </tr>\n    <tr>\n      <td>2050</td>\n      <td>0.804700</td>\n    </tr>\n    <tr>\n      <td>2100</td>\n      <td>0.804100</td>\n    </tr>\n    <tr>\n      <td>2150</td>\n      <td>0.766900</td>\n    </tr>\n    <tr>\n      <td>2200</td>\n      <td>0.751700</td>\n    </tr>\n    <tr>\n      <td>2250</td>\n      <td>0.783000</td>\n    </tr>\n    <tr>\n      <td>2300</td>\n      <td>0.778300</td>\n    </tr>\n    <tr>\n      <td>2350</td>\n      <td>0.753100</td>\n    </tr>\n    <tr>\n      <td>2400</td>\n      <td>0.798300</td>\n    </tr>\n    <tr>\n      <td>2450</td>\n      <td>0.770000</td>\n    </tr>\n    <tr>\n      <td>2500</td>\n      <td>0.788100</td>\n    </tr>\n    <tr>\n      <td>2550</td>\n      <td>0.785800</td>\n    </tr>\n    <tr>\n      <td>2600</td>\n      <td>0.732600</td>\n    </tr>\n    <tr>\n      <td>2650</td>\n      <td>0.691300</td>\n    </tr>\n    <tr>\n      <td>2700</td>\n      <td>0.707000</td>\n    </tr>\n    <tr>\n      <td>2750</td>\n      <td>0.763200</td>\n    </tr>\n    <tr>\n      <td>2800</td>\n      <td>0.719500</td>\n    </tr>\n    <tr>\n      <td>2850</td>\n      <td>0.726800</td>\n    </tr>\n    <tr>\n      <td>2900</td>\n      <td>0.783900</td>\n    </tr>\n    <tr>\n      <td>2950</td>\n      <td>0.725800</td>\n    </tr>\n    <tr>\n      <td>3000</td>\n      <td>0.760100</td>\n    </tr>\n    <tr>\n      <td>3050</td>\n      <td>0.707100</td>\n    </tr>\n    <tr>\n      <td>3100</td>\n      <td>0.772200</td>\n    </tr>\n    <tr>\n      <td>3150</td>\n      <td>0.724100</td>\n    </tr>\n    <tr>\n      <td>3200</td>\n      <td>0.740800</td>\n    </tr>\n    <tr>\n      <td>3250</td>\n      <td>0.734300</td>\n    </tr>\n    <tr>\n      <td>3300</td>\n      <td>0.754600</td>\n    </tr>\n    <tr>\n      <td>3350</td>\n      <td>0.693300</td>\n    </tr>\n    <tr>\n      <td>3400</td>\n      <td>0.762100</td>\n    </tr>\n    <tr>\n      <td>3450</td>\n      <td>0.734200</td>\n    </tr>\n    <tr>\n      <td>3500</td>\n      <td>0.734000</td>\n    </tr>\n    <tr>\n      <td>3550</td>\n      <td>0.750100</td>\n    </tr>\n    <tr>\n      <td>3600</td>\n      <td>0.717500</td>\n    </tr>\n    <tr>\n      <td>3650</td>\n      <td>0.706000</td>\n    </tr>\n    <tr>\n      <td>3700</td>\n      <td>0.727300</td>\n    </tr>\n    <tr>\n      <td>3750</td>\n      <td>0.739000</td>\n    </tr>\n    <tr>\n      <td>3800</td>\n      <td>0.724800</td>\n    </tr>\n    <tr>\n      <td>3850</td>\n      <td>0.784400</td>\n    </tr>\n    <tr>\n      <td>3900</td>\n      <td>0.749300</td>\n    </tr>\n  </tbody>\n</table><p>\n    <div>\n      \n      <progress value='226' max='1227' style='width:300px; height:20px; vertical-align: middle;'></progress>\n      [ 226/1227 01:29 < 06:40, 2.50 it/s]\n    </div>\n    "
     },
     "metadata": {},
     "output_type": "display_data"
    },
    {
     "name": "stdout",
     "output_type": "stream",
     "text": [
      "(1000, 3) (1000,)\n"
     ]
    }
   ],
   "source": [
    "predictions = trainer.predict(tokenizer_datasets[\"validation_matched\"].select(range(1000)))\n",
    "print(predictions.predictions.shape, predictions.label_ids.shape)"
   ]
  },
  {
   "cell_type": "code",
   "execution_count": 17,
   "id": "96f11b875d8c0575",
   "metadata": {
    "collapsed": false,
    "ExecuteTime": {
     "end_time": "2024-05-14T13:12:42.787158Z",
     "start_time": "2024-05-14T13:12:37.884204Z"
    }
   },
   "outputs": [
    {
     "data": {
      "text/plain": "{'accuracy': 0.71}"
     },
     "execution_count": 17,
     "metadata": {},
     "output_type": "execute_result"
    }
   ],
   "source": [
    "metric = load_metric(\"glue\", \"mnli\")\n",
    "preds = np.argmax(predictions.predictions, axis=1)\n",
    "metric.compute(predictions=preds, references=predictions.label_ids)"
   ]
  },
  {
   "cell_type": "code",
   "execution_count": 18,
   "id": "86c38857a627fe67",
   "metadata": {
    "collapsed": false,
    "ExecuteTime": {
     "end_time": "2024-05-14T13:12:45.972610Z",
     "start_time": "2024-05-14T13:12:45.968089Z"
    }
   },
   "outputs": [
    {
     "name": "stdout",
     "output_type": "stream",
     "text": [
      "[[-1.0716455   1.558393   -0.7187973 ]\n",
      " [-2.51354    -0.8897644   1.5188805 ]\n",
      " [-0.5514954   0.92744076 -0.30621362]\n",
      " ...\n",
      " [ 1.4753689  -0.13601232 -0.40316856]\n",
      " [-0.5112553   1.2894444  -0.6917718 ]\n",
      " [ 0.5733509   0.5475807  -0.51116425]]\n"
     ]
    }
   ],
   "source": [
    "print(predictions.predictions)"
   ]
  },
  {
   "cell_type": "code",
   "outputs": [],
   "source": [],
   "metadata": {
    "collapsed": false,
    "ExecuteTime": {
     "start_time": "2024-05-14T12:40:06.919881Z"
    }
   },
   "id": "35bac420f0f9332f",
   "execution_count": null
  }
 ],
 "metadata": {
  "kernelspec": {
   "display_name": "Python 3 (ipykernel)",
   "language": "python",
   "name": "python3"
  },
  "language_info": {
   "codemirror_mode": {
    "name": "ipython",
    "version": 3
   },
   "file_extension": ".py",
   "mimetype": "text/x-python",
   "name": "python",
   "nbconvert_exporter": "python",
   "pygments_lexer": "ipython3",
   "version": "3.11.4"
  }
 },
 "nbformat": 4,
 "nbformat_minor": 5
}
